{
 "cells": [
  {
   "cell_type": "code",
   "execution_count": 76,
   "metadata": {},
   "outputs": [],
   "source": [
    "import pandas as pd\n",
    "import requests\n",
    "import numpy as np"
   ]
  },
  {
   "cell_type": "code",
   "execution_count": 77,
   "metadata": {},
   "outputs": [],
   "source": [
    "df=pd.read_excel(\"D:\\programming\\codoptrHackathon\\data.xlsx\")"
   ]
  },
  {
   "cell_type": "code",
   "execution_count": 78,
   "metadata": {},
   "outputs": [
    {
     "name": "stdout",
     "output_type": "stream",
     "text": [
      "<bound method NDFrame.head of                     Product Name  Price  Discount Category\n",
      "0    Kissan Orange Marmalade Jam  180.0      0.06     Jams\n",
      "1               Kissan Mango Jam   85.0      0.13     Jams\n",
      "2         Kissan Mixed Fruit Jam   70.0      0.01     Jams\n",
      "3    Kissan Fresh Tomato Ketchup  138.0      0.17  Ketchup\n",
      "4    Kissan Fresh Tomato Ketchup   15.0      0.00  Ketchup\n",
      "..                           ...    ...       ...      ...\n",
      "253           GANESH CHANA SATTU   33.0      0.03    Sattu\n",
      "254                 GANESH SOOJI   13.0      0.08    Sooji\n",
      "255           GANESH MATAR BESAN   23.0      0.03    Besan\n",
      "256                 GANESH MAIDA   29.0      0.02    Maida\n",
      "257                  GANESH ATTA   44.0      0.02     Atta\n",
      "\n",
      "[258 rows x 4 columns]>\n"
     ]
    }
   ],
   "source": [
    "df['Discount']=df['Discount'].fillna(0)\n",
    "print(df.head)"
   ]
  },
  {
   "cell_type": "code",
   "execution_count": 79,
   "metadata": {},
   "outputs": [],
   "source": [
    "df['Discount']=df['Discount'].fillna(0)"
   ]
  },
  {
   "cell_type": "code",
   "execution_count": 80,
   "metadata": {},
   "outputs": [],
   "source": [
    "df['price_range'] = np.nan"
   ]
  },
  {
   "cell_type": "code",
   "execution_count": 81,
   "metadata": {},
   "outputs": [],
   "source": [
    "df.loc[df['Price'] <= 50, 'price_range'] = 0\n",
    "df.loc[(df['Price'] > 50) & (df['Price'] <= 150), 'price_range'] = 1\n",
    "df.loc[df['Price'] > 150, 'price_range'] = 2"
   ]
  },
  {
   "cell_type": "code",
   "execution_count": 82,
   "metadata": {},
   "outputs": [],
   "source": [
    "df.to_excel(\"updatedDataset.xlsx\")"
   ]
  },
  {
   "cell_type": "code",
   "execution_count": null,
   "metadata": {},
   "outputs": [],
   "source": []
  }
 ],
 "metadata": {
  "kernelspec": {
   "display_name": "base",
   "language": "python",
   "name": "python3"
  },
  "language_info": {
   "codemirror_mode": {
    "name": "ipython",
    "version": 3
   },
   "file_extension": ".py",
   "mimetype": "text/x-python",
   "name": "python",
   "nbconvert_exporter": "python",
   "pygments_lexer": "ipython3",
   "version": "3.9.7"
  },
  "orig_nbformat": 4,
  "vscode": {
   "interpreter": {
    "hash": "ad2bdc8ecc057115af97d19610ffacc2b4e99fae6737bb82f5d7fb13d2f2c186"
   }
  }
 },
 "nbformat": 4,
 "nbformat_minor": 2
}
