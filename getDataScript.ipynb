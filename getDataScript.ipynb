{
 "cells": [
  {
   "cell_type": "code",
   "execution_count": 18,
   "metadata": {},
   "outputs": [],
   "source": [
    "import pandas as pd\n",
    "import requests"
   ]
  },
  {
   "cell_type": "code",
   "execution_count": 19,
   "metadata": {},
   "outputs": [],
   "source": [
    "# Send an HTTP POST request to the server\n",
    "url = 'https://api.mydukaan.io/api/advanced-search/102128463/'\n",
    "headers = {\n",
    "    'User-Agent': 'Mozilla/5.0 (Macintosh; Intel Mac OS X 10.15; rv:105.0) Gecko/20100101 Firefox/105.0',\n",
    "    'Accept': 'application/json, text/plain, /',\n",
    "    'Accept-Language': 'en-US,en;q=0.5',\n",
    "    'Accept-Encoding': 'gzip, deflate, br',\n",
    "    'Content-Type': 'application/json',\n",
    "    'x-requested-with': 'x1rI-1672560044638',\n",
    "    'Origin': 'https://croptr.in',\n",
    "    'Connection': 'keep-alive',\n",
    "    'Referer': 'https://croptr.in/',\n",
    "    'Sec-Fetch-Dest': 'empty',\n",
    "    'Sec-Fetch-Mode': 'cors',\n",
    "    'Sec-Fetch-Site': 'cross-site',\n",
    "    'TE': 'trailers'\n",
    "}"
   ]
  },
  {
   "cell_type": "code",
   "execution_count": 20,
   "metadata": {},
   "outputs": [],
   "source": [
    "data = {\n",
    "    \"sku_attrs\": {},\n",
    "    \"product_attrs\": {},\n",
    "    \"sort_by\": \"bestsellers\",\n",
    "    \"category_ids\": [11917812],\n",
    "    \"page_size\": 18,\n",
    "    \"offset\": 0,\n",
    "    \"show_out_of_stock_products\": True\n",
    "}"
   ]
  },
  {
   "cell_type": "code",
   "execution_count": 21,
   "metadata": {},
   "outputs": [],
   "source": [
    "response = requests.post(url, headers=headers, json=data)"
   ]
  },
  {
   "cell_type": "code",
   "execution_count": 22,
   "metadata": {},
   "outputs": [
    {
     "name": "stdout",
     "output_type": "stream",
     "text": [
      "                                                          data detail  \\\n",
      "products     [{'selling_price': 180, 'original_price': 200,...          \n",
      "total_count                                                 39          \n",
      "\n",
      "              status  status_code  \n",
      "products     success          200  \n",
      "total_count  success          200  \n",
      "task done\n"
     ]
    }
   ],
   "source": [
    "# Save the data in an Excel file\n",
    "data = response.json()\n",
    "df = pd.DataFrame(data)\n",
    "print(df)\n",
    "df.to_excel(\"data.xlsx\", index=True)\n",
    "\n",
    "print(\"task done\")"
   ]
  }
 ],
 "metadata": {
  "kernelspec": {
   "display_name": "base",
   "language": "python",
   "name": "python3"
  },
  "language_info": {
   "codemirror_mode": {
    "name": "ipython",
    "version": 3
   },
   "file_extension": ".py",
   "mimetype": "text/x-python",
   "name": "python",
   "nbconvert_exporter": "python",
   "pygments_lexer": "ipython3",
   "version": "3.9.7"
  },
  "orig_nbformat": 4,
  "vscode": {
   "interpreter": {
    "hash": "ad2bdc8ecc057115af97d19610ffacc2b4e99fae6737bb82f5d7fb13d2f2c186"
   }
  }
 },
 "nbformat": 4,
 "nbformat_minor": 2
}
