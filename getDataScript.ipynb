{
 "cells": [
  {
   "cell_type": "code",
   "execution_count": 83,
   "metadata": {},
   "outputs": [],
   "source": [
    "import pandas as pd\n",
    "import requests\n",
    "import numpy as np"
   ]
  },
  {
   "cell_type": "code",
   "execution_count": 84,
   "metadata": {},
   "outputs": [],
   "source": [
    "df=pd.read_excel(\"D:\\programming\\codoptrHackathon\\data.xlsx\")"
   ]
  },
  {
   "cell_type": "code",
   "execution_count": 85,
   "metadata": {},
   "outputs": [
    {
     "name": "stdout",
     "output_type": "stream",
     "text": [
      "<bound method NDFrame.head of                     Product Name  Price  Discount Category\n",
      "0    Kissan Orange Marmalade Jam  180.0      0.06     Jams\n",
      "1               Kissan Mango Jam   85.0      0.13     Jams\n",
      "2         Kissan Mixed Fruit Jam   70.0      0.01     Jams\n",
      "3    Kissan Fresh Tomato Ketchup  138.0      0.17  Ketchup\n",
      "4    Kissan Fresh Tomato Ketchup   15.0      0.00  Ketchup\n",
      "..                           ...    ...       ...      ...\n",
      "253           GANESH CHANA SATTU   33.0      0.03    Sattu\n",
      "254                 GANESH SOOJI   13.0      0.08    Sooji\n",
      "255           GANESH MATAR BESAN   23.0      0.03    Besan\n",
      "256                 GANESH MAIDA   29.0      0.02    Maida\n",
      "257                  GANESH ATTA   44.0      0.02     Atta\n",
      "\n",
      "[258 rows x 4 columns]>\n"
     ]
    }
   ],
   "source": [
    "df['Discount']=df['Discount'].fillna(0)\n",
    "print(df.head)"
   ]
  },
  {
   "cell_type": "code",
   "execution_count": 86,
   "metadata": {},
   "outputs": [],
   "source": [
    "df['Discount']=df['Discount'].fillna(0)"
   ]
  },
  {
   "cell_type": "code",
   "execution_count": 87,
   "metadata": {},
   "outputs": [],
   "source": [
    "df['price_range'] = np.nan"
   ]
  },
  {
   "cell_type": "code",
   "execution_count": 88,
   "metadata": {},
   "outputs": [],
   "source": [
    "df.loc[df['Price'] <= 50, 'price_range'] = 0\n",
    "df.loc[(df['Price'] > 50) & (df['Price'] <= 150), 'price_range'] = 1\n",
    "df.loc[df['Price'] > 150, 'price_range'] = 2"
   ]
  },
  {
   "cell_type": "code",
   "execution_count": 89,
   "metadata": {},
   "outputs": [],
   "source": [
    "df.to_excel(\"updatedDataset.xlsx\")"
   ]
  },
  {
   "cell_type": "code",
   "execution_count": 90,
   "metadata": {},
   "outputs": [
    {
     "data": {
      "text/plain": [
       "(258, 5)"
      ]
     },
     "execution_count": 90,
     "metadata": {},
     "output_type": "execute_result"
    }
   ],
   "source": [
    "df.shape"
   ]
  },
  {
   "cell_type": "code",
   "execution_count": 91,
   "metadata": {},
   "outputs": [
    {
     "name": "stdout",
     "output_type": "stream",
     "text": [
      "<class 'pandas.core.frame.DataFrame'>\n",
      "RangeIndex: 258 entries, 0 to 257\n",
      "Data columns (total 5 columns):\n",
      " #   Column        Non-Null Count  Dtype  \n",
      "---  ------        --------------  -----  \n",
      " 0   Product Name  258 non-null    object \n",
      " 1   Price         258 non-null    float64\n",
      " 2   Discount      258 non-null    float64\n",
      " 3   Category      258 non-null    object \n",
      " 4   price_range   258 non-null    float64\n",
      "dtypes: float64(3), object(2)\n",
      "memory usage: 10.2+ KB\n"
     ]
    }
   ],
   "source": [
    "df.info()"
   ]
  },
  {
   "cell_type": "code",
   "execution_count": 92,
   "metadata": {},
   "outputs": [
    {
     "data": {
      "text/plain": [
       "Vegetables     48\n",
       "Masala         25\n",
       "Fruits         24\n",
       "Spices         22\n",
       "Chips          14\n",
       "Oil            11\n",
       "Rice           10\n",
       "Nuts            8\n",
       "Lotion          7\n",
       "Noodles         6\n",
       "Biscuits        6\n",
       "Face Wash       6\n",
       "Toothpaste      6\n",
       "Dates           5\n",
       "Chocolate       5\n",
       "Hair Oil        4\n",
       "Baking          4\n",
       "Flour           4\n",
       "Cakes           4\n",
       "Soap            3\n",
       "Ketchup         3\n",
       "Atta            3\n",
       "Detergents      3\n",
       "Jams            3\n",
       "Body Lotion     2\n",
       "Dal             2\n",
       "Besan           2\n",
       "Papad           2\n",
       "Sattu           1\n",
       "Dalia           1\n",
       "Vermicelli      1\n",
       "Salt            1\n",
       "Sugar           1\n",
       "Sooji           1\n",
       "Glycerine       1\n",
       "Soya            1\n",
       "Ghee            1\n",
       "Tea             1\n",
       "Dairy           1\n",
       "Milk            1\n",
       "Jelly           1\n",
       "Dishwash        1\n",
       "Crackers        1\n",
       "Maida           1\n",
       "Name: Category, dtype: int64"
      ]
     },
     "execution_count": 92,
     "metadata": {},
     "output_type": "execute_result"
    }
   ],
   "source": [
    "df['Category'].value_counts()"
   ]
  },
  {
   "cell_type": "code",
   "execution_count": 93,
   "metadata": {},
   "outputs": [
    {
     "data": {
      "text/plain": [
       "Product Name    0\n",
       "Price           0\n",
       "Discount        0\n",
       "Category        0\n",
       "price_range     0\n",
       "dtype: int64"
      ]
     },
     "execution_count": 93,
     "metadata": {},
     "output_type": "execute_result"
    }
   ],
   "source": [
    "df.isnull().sum()"
   ]
  },
  {
   "cell_type": "code",
   "execution_count": 94,
   "metadata": {},
   "outputs": [
    {
     "data": {
      "text/plain": [
       "0"
      ]
     },
     "execution_count": 94,
     "metadata": {},
     "output_type": "execute_result"
    }
   ],
   "source": [
    "df.duplicated().sum()"
   ]
  },
  {
   "cell_type": "code",
   "execution_count": 95,
   "metadata": {},
   "outputs": [],
   "source": [
    "from sklearn.metrics.pairwise import cosine_similarity"
   ]
  },
  {
   "cell_type": "code",
   "execution_count": 96,
   "metadata": {},
   "outputs": [],
   "source": [
    "features = ['Price', 'Discount', 'Category']\n",
    "X = df[features]"
   ]
  },
  {
   "cell_type": "code",
   "execution_count": 98,
   "metadata": {},
   "outputs": [],
   "source": [
    "X = pd.get_dummies(X, columns=['Category'])"
   ]
  },
  {
   "cell_type": "code",
   "execution_count": 99,
   "metadata": {},
   "outputs": [],
   "source": [
    "item_similarity = cosine_similarity(X)"
   ]
  },
  {
   "cell_type": "code",
   "execution_count": 100,
   "metadata": {},
   "outputs": [],
   "source": [
    "item_similarity_df = pd.DataFrame(item_similarity, index=df['Product Name'], columns=df['Product Name'])"
   ]
  },
  {
   "cell_type": "code",
   "execution_count": 101,
   "metadata": {},
   "outputs": [],
   "source": [
    "# Function to get the top k similar items for a given item\n",
    "def get_similar_items(item_name, k=10):\n",
    "    # Get the row corresponding to the given item\n",
    "    item_row = item_similarity_df.loc[item_name]\n",
    "    \n",
    "    # Get the top k similar items\n",
    "    top_k = item_row.sort_values(ascending=False).head(k+1)\n",
    "    \n",
    "    # Remove the given item from the list of similar items\n",
    "    top_k = top_k[top_k.index != item_name]\n",
    "    \n",
    "    return top_k"
   ]
  },
  {
   "cell_type": "code",
   "execution_count": 102,
   "metadata": {},
   "outputs": [
    {
     "name": "stdout",
     "output_type": "stream",
     "text": [
      "Product Name\n",
      "Winkies Marble Cake Sliced      1.0\n",
      "Winkies Chocolate Cake          1.0\n",
      "Britannia Gobbes Milky mosti    1.0\n",
      "Name: Winkies Fruit Cake, dtype: float64\n"
     ]
    }
   ],
   "source": [
    "similar_items = get_similar_items(\"Winkies Fruit Cake\", k=3)\n",
    "print(similar_items)"
   ]
  },
  {
   "cell_type": "code",
   "execution_count": null,
   "metadata": {},
   "outputs": [],
   "source": []
  },
  {
   "cell_type": "code",
   "execution_count": null,
   "metadata": {},
   "outputs": [],
   "source": []
  }
 ],
 "metadata": {
  "kernelspec": {
   "display_name": "base",
   "language": "python",
   "name": "python3"
  },
  "language_info": {
   "codemirror_mode": {
    "name": "ipython",
    "version": 3
   },
   "file_extension": ".py",
   "mimetype": "text/x-python",
   "name": "python",
   "nbconvert_exporter": "python",
   "pygments_lexer": "ipython3",
   "version": "3.9.7"
  },
  "orig_nbformat": 4,
  "vscode": {
   "interpreter": {
    "hash": "ad2bdc8ecc057115af97d19610ffacc2b4e99fae6737bb82f5d7fb13d2f2c186"
   }
  }
 },
 "nbformat": 4,
 "nbformat_minor": 2
}
